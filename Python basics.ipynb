{
 "cells": [
  {
   "cell_type": "code",
   "execution_count": 3,
   "id": "bf910657",
   "metadata": {},
   "outputs": [
    {
     "name": "stdout",
     "output_type": "stream",
     "text": [
      "Enter number of rows: 10\n"
     ]
    }
   ],
   "source": [
    "#Program to create a pyramid\n",
    "rows=int(input(\"Enter number of rows: \"))"
   ]
  },
  {
   "cell_type": "code",
   "execution_count": 4,
   "id": "4dc4fd58",
   "metadata": {},
   "outputs": [
    {
     "name": "stdout",
     "output_type": "stream",
     "text": [
      "*  \n",
      "\n",
      "*  *  \n",
      "\n",
      "*  *  *  \n",
      "\n",
      "*  *  *  *  \n",
      "\n",
      "*  *  *  *  *  \n",
      "\n",
      "*  *  *  *  *  *  \n",
      "\n",
      "*  *  *  *  *  *  *  \n",
      "\n",
      "*  *  *  *  *  *  *  *  \n",
      "\n",
      "*  *  *  *  *  *  *  *  *  \n",
      "\n",
      "*  *  *  *  *  *  *  *  *  *  \n",
      "\n"
     ]
    }
   ],
   "source": [
    "for i in range(rows):\n",
    "    for j in range(i+1):\n",
    "        print(\"* \",end=\" \")\n",
    "    print(\"\\n\")    "
   ]
  },
  {
   "cell_type": "code",
   "execution_count": 7,
   "id": "38026eb4",
   "metadata": {},
   "outputs": [
    {
     "name": "stdout",
     "output_type": "stream",
     "text": [
      "Enter any number: 2345\n"
     ]
    }
   ],
   "source": [
    "#Program to check an armstrong number\n",
    "num=int(input(\"Enter any number: \"))"
   ]
  },
  {
   "cell_type": "code",
   "execution_count": 8,
   "id": "58f435e8",
   "metadata": {},
   "outputs": [
    {
     "name": "stdout",
     "output_type": "stream",
     "text": [
      "2345 is not an armstrong number\n"
     ]
    }
   ],
   "source": [
    "sum=0\n",
    "num1=num\n",
    "while num1>0:\n",
    "    dgt=num1%10\n",
    "    sum=sum+dgt**3\n",
    "    num1=num1/10\n",
    "if num==sum:\n",
    "    print(num,\"is an armstrong number\")\n",
    "else:\n",
    "    print(num,\"is not an armstrong number\")"
   ]
  },
  {
   "cell_type": "code",
   "execution_count": 5,
   "id": "c47076c2",
   "metadata": {},
   "outputs": [
    {
     "name": "stdout",
     "output_type": "stream",
     "text": [
      "Enter the first number20\n",
      "Enter the second number10\n",
      "Select the operation you want to perform\n",
      "Press 1 for Addition\n",
      "Press 2 for Subtraction\n",
      "Press 3 for Multiplication\n",
      "Press 4 for Division\n",
      "Enter your choice(1/2/3/4): 4\n"
     ]
    }
   ],
   "source": [
    "#Program to create a calculator\n",
    "num1=int(input(\"Enter the first number\"))\n",
    "num2=int(input(\"Enter the second number\"))\n",
    "print(\"Select the operation you want to perform\")\n",
    "print(\"Press 1 for Addition\")\n",
    "print(\"Press 2 for Subtraction\")\n",
    "print(\"Press 3 for Multiplication\")\n",
    "print(\"Press 4 for Division\")\n",
    "op=int(input(\"Enter your choice(1/2/3/4): \"))"
   ]
  },
  {
   "cell_type": "code",
   "execution_count": 6,
   "id": "6151c5d4",
   "metadata": {},
   "outputs": [
    {
     "name": "stdout",
     "output_type": "stream",
     "text": [
      "Your calculated result is 2.0\n"
     ]
    }
   ],
   "source": [
    "print(\"Your calculated result is\",end=\" \")\n",
    "if op==1:\n",
    "    print(num1+num2)\n",
    "elif op==2:\n",
    "    print(num1-num2)\n",
    "elif op==3:\n",
    "    print(num1*num2)\n",
    "elif op==4:\n",
    "    print(num1/num2)"
   ]
  },
  {
   "cell_type": "code",
   "execution_count": 1,
   "id": "cc7a24ee",
   "metadata": {},
   "outputs": [
    {
     "name": "stdout",
     "output_type": "stream",
     "text": [
      "Enter x: 10\n",
      "Enter the last limit n: 3\n"
     ]
    }
   ],
   "source": [
    "#Program to find sum of series 1+x+x^2+x^3+------+x^n\n",
    "x=int(input(\"Enter x: \"))\n",
    "n=int(input(\"Enter the last limit n: \"))"
   ]
  },
  {
   "cell_type": "code",
   "execution_count": 5,
   "id": "1f342c74",
   "metadata": {},
   "outputs": [
    {
     "name": "stdout",
     "output_type": "stream",
     "text": [
      "1111 is the sum of series\n"
     ]
    }
   ],
   "source": [
    "sum=0\n",
    "for i in range(n+1):\n",
    "    sum=sum+x**i\n",
    "print(sum,\"is the sum of series\")    \n",
    "    "
   ]
  },
  {
   "cell_type": "code",
   "execution_count": 7,
   "id": "a18fe460",
   "metadata": {},
   "outputs": [
    {
     "name": "stdout",
     "output_type": "stream",
     "text": [
      "Enter a string: naman\n",
      "Entered string is a palindrome\n"
     ]
    }
   ],
   "source": [
    "#Program to check if a string is a palindrome or not(caseless comparison)\n",
    "pul=input(\"Enter a string: \")\n",
    "pul=pul.casefold()\n",
    "rev_pul=reversed(pul)\n",
    "if list(pul)==list(rev_pul):\n",
    "    print(\"Entered string is a palindrome\")\n",
    "else:\n",
    "    print(\"Entered string is not a palindrome\")"
   ]
  },
  {
   "cell_type": "code",
   "execution_count": 12,
   "id": "3ccae2eb",
   "metadata": {},
   "outputs": [
    {
     "name": "stdout",
     "output_type": "stream",
     "text": [
      "Press 1 to find union\n",
      "Press 2 to find intersection\n",
      "Enter your choice: 2\n",
      "Intersection of given three sets is:  {1}\n"
     ]
    }
   ],
   "source": [
    "#Program to find union and intersection of three sets\n",
    "set1={1,2,3,4,5}\n",
    "set2={1,4,5,6,7,8}\n",
    "set3={1,3,19}\n",
    "print(\"Press 1 to find union\")\n",
    "print(\"Press 2 to find intersection\")\n",
    "choice=int(input(\"Enter your choice: \"))\n",
    "if choice==1:\n",
    "    print(\"Union of given three sets is: \",set1.union(set2,set3))\n",
    "elif choice==2:\n",
    "    print(\"Intersection of given three sets is: \",set1.intersection(set2,set3))\n",
    "else:\n",
    "    print(\"Enter valid choice!!\")"
   ]
  },
  {
   "cell_type": "code",
   "execution_count": null,
   "id": "ff9f17e0",
   "metadata": {},
   "outputs": [],
   "source": []
  }
 ],
 "metadata": {
  "kernelspec": {
   "display_name": "Python 3",
   "language": "python",
   "name": "python3"
  },
  "language_info": {
   "codemirror_mode": {
    "name": "ipython",
    "version": 3
   },
   "file_extension": ".py",
   "mimetype": "text/x-python",
   "name": "python",
   "nbconvert_exporter": "python",
   "pygments_lexer": "ipython3",
   "version": "3.8.8"
  }
 },
 "nbformat": 4,
 "nbformat_minor": 5
}
